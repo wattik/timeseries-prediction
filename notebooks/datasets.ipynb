{
 "cells": [
  {
   "cell_type": "code",
   "execution_count": 27,
   "metadata": {
    "collapsed": false
   },
   "outputs": [],
   "source": [
    "import pandas as pd\n",
    "from matplotlib.pyplot import show, figure, plot, subplots\n",
    "import matplotlib.pyplot as plt\n",
    "%matplotlib osx\n",
    "import seaborn as sns\n",
    "import numpy as np\n",
    "from scipy import stats"
   ]
  },
  {
   "cell_type": "code",
   "execution_count": 2,
   "metadata": {
    "collapsed": false
   },
   "outputs": [
    {
     "data": {
      "text/plain": [
       "DatetimeIndex(['2010-01-04', '2010-01-05', '2010-01-06', '2010-01-07',\n               '2010-01-08', '2010-01-11', '2010-01-12', '2010-01-13',\n               '2010-01-14', '2010-01-15',\n               ...\n               '2014-07-17', '2014-07-18', '2014-07-21', '2014-07-22',\n               '2014-07-23', '2014-07-24', '2014-07-25', '2014-07-28',\n               '2014-07-29', '2014-07-30'],\n              dtype='datetime64[ns]', name='Date', length=1151, freq=None)"
      ]
     },
     "execution_count": 2,
     "metadata": {},
     "output_type": "execute_result"
    }
   ],
   "source": [
    "data = pd.read_csv(\"data/sp500.csv\")\n",
    "data = data.set_index(pd.DatetimeIndex(data[\"Date\"]))\n",
    "data.index"
   ]
  },
  {
   "cell_type": "code",
   "execution_count": 112,
   "metadata": {
    "collapsed": false
   },
   "outputs": [
    {
     "data": {
      "text/plain": [
       "count    1.151000e+03\nmean     3.839843e+09\nstd      9.278361e+08\nmin      1.025000e+09\n25%      3.298250e+09\n50%      3.722320e+09\n75%      4.265890e+09\nmax      1.061781e+10\nName: Volume, dtype: float64"
      ]
     },
     "execution_count": 112,
     "metadata": {},
     "output_type": "execute_result"
    }
   ],
   "source": [
    "data[\"Volume\"].describe()\n"
   ]
  },
  {
   "cell_type": "code",
   "execution_count": 121,
   "metadata": {
    "collapsed": false
   },
   "outputs": [],
   "source": [
    "\n",
    "data[\"Year\"] = data.index.to_period(\"A\")\n",
    "data[\"Month\"] = data.index.to_period(\"M\")\n",
    "data[\"Day\"] = data.index.weekday\n",
    "data[\"Q\"] = data.index.to_period(\"Q\").strftime('Q%q')\n",
    "data[\"PreviousVolume\"] = data[\"Volume\"].shift(1)\n"
   ]
  },
  {
   "cell_type": "code",
   "execution_count": 58,
   "metadata": {
    "collapsed": false
   },
   "outputs": [
    {
     "data": {
      "text/plain": [
       "<matplotlib.axes._subplots.AxesSubplot at 0x1174f4dd8>"
      ]
     },
     "execution_count": 58,
     "metadata": {},
     "output_type": "execute_result"
    }
   ],
   "source": [
    "data[\"Volume\"].plot()\n"
   ]
  },
  {
   "cell_type": "code",
   "execution_count": 99,
   "metadata": {
    "collapsed": false
   },
   "outputs": [
    {
     "name": "stdout",
     "output_type": "stream",
     "text": [
      "(0.14110334442523884, -2550422425.4460354, 6325247618.913096)\n"
     ]
    },
    {
     "name": "stderr",
     "output_type": "stream",
     "text": [
      "/Library/Frameworks/Python.framework/Versions/3.6/lib/python3.6/site-packages/matplotlib/axes/_axes.py:6462: UserWarning: The 'normed' kwarg is deprecated, and has been replaced by the 'density' kwarg.\n  warnings.warn(\"The 'normed' kwarg is deprecated, and has been \"\n"
     ]
    },
    {
     "data": {
      "text/plain": [
       "<matplotlib.axes._subplots.AxesSubplot at 0x13e047a58>"
      ]
     },
     "execution_count": 99,
     "metadata": {},
     "output_type": "execute_result"
    }
   ],
   "source": [
    "\n",
    "params = stats.lognorm.fit(volume.values)\n",
    "print(params)\n",
    "\n",
    "sns.distplot(data.Volume.iloc[400:430], hist=True, kde=False, fit=stats.lognorm, bins=100)\n"
   ]
  },
  {
   "cell_type": "code",
   "execution_count": 78,
   "metadata": {},
   "outputs": [],
   "source": [
    "volume = data.Volume\n",
    "previous_end = 0\n",
    "\n",
    "periods_num = 2\n",
    "items_num = len(volume.index)\n",
    "period_length = int(items_num/periods_num)\n",
    "\n",
    "xlim = (volume.min(), volume.max())\n",
    "\n",
    "figure()\n",
    "for period in range(periods_num):\n",
    "    date_range = pd.date_range(previous_end, periods=period_length)\n",
    "    start = date_range.min()\n",
    "    # previous_end = date_range.max()\n",
    "    start = previous_end\n",
    "    previous_end = start + period_length\n",
    "    label = \"%s - %s\" % (start, previous_end)\n",
    "    volume.reindex(date_range).plot.kde(label=label, legend=True, xlim=xlim)\n",
    "    # sns.distplot(volume.iloc[start:previous_end], fit=stats.lognorm, kde=False, hist=False)"
   ]
  },
  {
   "cell_type": "code",
   "execution_count": 124,
   "metadata": {},
   "outputs": [
    {
     "data": {
      "text/plain": [
       "<matplotlib.axes._subplots.AxesSubplot at 0x13f5bdf28>"
      ]
     },
     "execution_count": 124,
     "metadata": {},
     "output_type": "execute_result"
    }
   ],
   "source": [
    "data[[\"Day\", \"Volume\"]].boxplot(by=\"Day\")"
   ]
  },
  {
   "cell_type": "code",
   "execution_count": 119,
   "metadata": {},
   "outputs": [
    {
     "data": {
      "text/plain": [
       "(1025000000, 10617810000)"
      ]
     },
     "execution_count": 119,
     "metadata": {},
     "output_type": "execute_result"
    }
   ],
   "source": [
    "data[\"t-1\"] = data[\"Volume\"].shift(1)\n",
    "sns.lmplot(x=\"Volume\", y=\"t-1\", data=data, order=1)\n",
    "plt.grid(True)\n",
    "plt.ylim(data[\"Volume\"].min(), data[\"Volume\"].max())\n",
    "plt.xlim(data[\"Volume\"].min(), data[\"Volume\"].max())\n"
   ]
  },
  {
   "cell_type": "code",
   "execution_count": 16,
   "metadata": {},
   "outputs": [
    {
     "data": {
      "text/plain": [
       "<matplotlib.axes._subplots.AxesSubplot at 0x1232c3048>"
      ]
     },
     "execution_count": 16,
     "metadata": {},
     "output_type": "execute_result"
    }
   ],
   "source": [
    "q = np.percentile(data[\"Volume\"], [20, 80])\n",
    "q_low, q_high = q[0], q[1]\n",
    "\n",
    "data[\"below\"] = (data[\"Volume\"] <= q_low).astype(float)\n",
    "data[\"above\"] = (data[\"Volume\"] >= q_high).astype(float)\n",
    "\n",
    "data[\"below_t-1\"] = data[\"below\"].shift(1)\n",
    "data[\"above_t-1\"] = data[\"above\"].shift(1)\n",
    "sns.regplot(x=\"below_t-1\", y=\"Volume\", data=data)\n",
    "sns.regplot(x=\"above_t-1\", y=\"Volume\", data=data)\n"
   ]
  },
  {
   "cell_type": "code",
   "execution_count": null,
   "metadata": {},
   "outputs": [],
   "source": []
  }
 ],
 "metadata": {},
 "nbformat": 4,
 "nbformat_minor": 2
}
